{
 "cells": [
  {
   "cell_type": "code",
   "execution_count": 164,
   "id": "cc9ade5e-b73b-4799-b09d-2cb5336f682a",
   "metadata": {},
   "outputs": [
    {
     "name": "stdout",
     "output_type": "stream",
     "text": [
      "Found existing installation: torch 2.2.2\n",
      "Uninstalling torch-2.2.2:\n",
      "  Successfully uninstalled torch-2.2.2\n",
      "Found existing installation: torchvision 0.17.2\n",
      "Uninstalling torchvision-0.17.2:\n",
      "  Successfully uninstalled torchvision-0.17.2\n",
      "Found existing installation: torchaudio 2.2.2\n",
      "Uninstalling torchaudio-2.2.2:\n",
      "  Successfully uninstalled torchaudio-2.2.2\n",
      "Found existing installation: torch_geometric 2.5.2\n",
      "Uninstalling torch_geometric-2.5.2:\n",
      "  Successfully uninstalled torch_geometric-2.5.2\n",
      "Looking in indexes: https://download.pytorch.org/whl/cpu\n",
      "Collecting torch==2.2.2\n",
      "  Using cached https://download.pytorch.org/whl/cpu/torch-2.2.2-cp311-none-macosx_11_0_arm64.whl (59.3 MB)\n",
      "Collecting torchvision==0.17.2\n",
      "  Using cached https://download.pytorch.org/whl/cpu/torchvision-0.17.2-cp311-cp311-macosx_11_0_arm64.whl (1.6 MB)\n",
      "Collecting torchaudio==2.2.2\n",
      "  Using cached https://download.pytorch.org/whl/cpu/torchaudio-2.2.2-cp311-cp311-macosx_11_0_arm64.whl (1.8 MB)\n",
      "Requirement already satisfied: filelock in /opt/anaconda3/lib/python3.11/site-packages (from torch==2.2.2) (3.13.1)\n",
      "Requirement already satisfied: typing-extensions>=4.8.0 in /opt/anaconda3/lib/python3.11/site-packages (from torch==2.2.2) (4.14.1)\n",
      "Requirement already satisfied: sympy in /opt/anaconda3/lib/python3.11/site-packages (from torch==2.2.2) (1.13.3)\n",
      "Requirement already satisfied: networkx in /opt/anaconda3/lib/python3.11/site-packages (from torch==2.2.2) (3.1)\n",
      "Requirement already satisfied: jinja2 in /opt/anaconda3/lib/python3.11/site-packages (from torch==2.2.2) (3.1.3)\n",
      "Requirement already satisfied: fsspec in /opt/anaconda3/lib/python3.11/site-packages (from torch==2.2.2) (2023.10.0)\n",
      "Requirement already satisfied: numpy in /opt/anaconda3/lib/python3.11/site-packages (from torchvision==0.17.2) (1.26.4)\n",
      "Requirement already satisfied: pillow!=8.3.*,>=5.3.0 in /opt/anaconda3/lib/python3.11/site-packages (from torchvision==0.17.2) (10.2.0)\n",
      "Requirement already satisfied: MarkupSafe>=2.0 in /opt/anaconda3/lib/python3.11/site-packages (from jinja2->torch==2.2.2) (2.1.3)\n",
      "Requirement already satisfied: mpmath<1.4,>=1.1.0 in /opt/anaconda3/lib/python3.11/site-packages (from sympy->torch==2.2.2) (1.3.0)\n",
      "Installing collected packages: torch, torchvision, torchaudio\n",
      "\u001b[2K   \u001b[90m━━━━━━━━━━━━━━━━━━━━━━━━━━━━━━━━━━━━━━━━\u001b[0m \u001b[32m3/3\u001b[0m [torchaudio]3\u001b[0m [torchaudio]]\n",
      "\u001b[1A\u001b[2KSuccessfully installed torch-2.2.2 torchaudio-2.2.2 torchvision-0.17.2\n",
      "Collecting torch-geometric==2.5.2\n",
      "  Using cached torch_geometric-2.5.2-py3-none-any.whl.metadata (64 kB)\n",
      "Requirement already satisfied: tqdm in /opt/anaconda3/lib/python3.11/site-packages (from torch-geometric==2.5.2) (4.65.0)\n",
      "Requirement already satisfied: numpy in /opt/anaconda3/lib/python3.11/site-packages (from torch-geometric==2.5.2) (1.26.4)\n",
      "Requirement already satisfied: scipy in /opt/anaconda3/lib/python3.11/site-packages (from torch-geometric==2.5.2) (1.11.4)\n",
      "Requirement already satisfied: fsspec in /opt/anaconda3/lib/python3.11/site-packages (from torch-geometric==2.5.2) (2023.10.0)\n",
      "Requirement already satisfied: jinja2 in /opt/anaconda3/lib/python3.11/site-packages (from torch-geometric==2.5.2) (3.1.3)\n",
      "Requirement already satisfied: aiohttp in /opt/anaconda3/lib/python3.11/site-packages (from torch-geometric==2.5.2) (3.9.3)\n",
      "Requirement already satisfied: requests in /opt/anaconda3/lib/python3.11/site-packages (from torch-geometric==2.5.2) (2.31.0)\n",
      "Requirement already satisfied: pyparsing in /opt/anaconda3/lib/python3.11/site-packages (from torch-geometric==2.5.2) (3.0.9)\n",
      "Requirement already satisfied: scikit-learn in /opt/anaconda3/lib/python3.11/site-packages (from torch-geometric==2.5.2) (1.2.2)\n",
      "Requirement already satisfied: psutil>=5.8.0 in /opt/anaconda3/lib/python3.11/site-packages (from torch-geometric==2.5.2) (5.9.0)\n",
      "Requirement already satisfied: aiosignal>=1.1.2 in /opt/anaconda3/lib/python3.11/site-packages (from aiohttp->torch-geometric==2.5.2) (1.2.0)\n",
      "Requirement already satisfied: attrs>=17.3.0 in /opt/anaconda3/lib/python3.11/site-packages (from aiohttp->torch-geometric==2.5.2) (25.3.0)\n",
      "Requirement already satisfied: frozenlist>=1.1.1 in /opt/anaconda3/lib/python3.11/site-packages (from aiohttp->torch-geometric==2.5.2) (1.4.0)\n",
      "Requirement already satisfied: multidict<7.0,>=4.5 in /opt/anaconda3/lib/python3.11/site-packages (from aiohttp->torch-geometric==2.5.2) (6.0.4)\n",
      "Requirement already satisfied: yarl<2.0,>=1.0 in /opt/anaconda3/lib/python3.11/site-packages (from aiohttp->torch-geometric==2.5.2) (1.9.3)\n",
      "Requirement already satisfied: idna>=2.0 in /opt/anaconda3/lib/python3.11/site-packages (from yarl<2.0,>=1.0->aiohttp->torch-geometric==2.5.2) (3.4)\n",
      "Requirement already satisfied: MarkupSafe>=2.0 in /opt/anaconda3/lib/python3.11/site-packages (from jinja2->torch-geometric==2.5.2) (2.1.3)\n",
      "Requirement already satisfied: charset-normalizer<4,>=2 in /opt/anaconda3/lib/python3.11/site-packages (from requests->torch-geometric==2.5.2) (2.0.4)\n",
      "Requirement already satisfied: urllib3<3,>=1.21.1 in /opt/anaconda3/lib/python3.11/site-packages (from requests->torch-geometric==2.5.2) (2.5.0)\n",
      "Requirement already satisfied: certifi>=2017.4.17 in /opt/anaconda3/lib/python3.11/site-packages (from requests->torch-geometric==2.5.2) (2025.7.14)\n",
      "Requirement already satisfied: joblib>=1.1.1 in /opt/anaconda3/lib/python3.11/site-packages (from scikit-learn->torch-geometric==2.5.2) (1.2.0)\n",
      "Requirement already satisfied: threadpoolctl>=2.0.0 in /opt/anaconda3/lib/python3.11/site-packages (from scikit-learn->torch-geometric==2.5.2) (2.2.0)\n",
      "Using cached torch_geometric-2.5.2-py3-none-any.whl (1.1 MB)\n",
      "Installing collected packages: torch-geometric\n",
      "Successfully installed torch-geometric-2.5.2\n"
     ]
    }
   ],
   "source": [
    "!pip uninstall -y torch torchvision torchaudio torch-geometric\n",
    "!pip install torch==2.2.2 torchvision==0.17.2 torchaudio==2.2.2 --index-url https://download.pytorch.org/whl/cpu\n",
    "!pip install torch-geometric==2.5.2\n"
   ]
  },
  {
   "cell_type": "code",
   "execution_count": 165,
   "id": "9c70a014-3d99-42d1-89bf-d057151b3913",
   "metadata": {},
   "outputs": [],
   "source": [
    "import os\n",
    "import pandas as pd\n",
    "import torch\n",
    "import torch_geometric\n",
    "from torch_geometric.data import HeteroData"
   ]
  },
  {
   "cell_type": "code",
   "execution_count": 166,
   "id": "b8181f59-4114-41dd-beab-48bc968f0199",
   "metadata": {},
   "outputs": [
    {
     "name": "stdout",
     "output_type": "stream",
     "text": [
      "Torch: 2.2.2\n",
      "PyG: 2.5.2\n",
      "CUDA available: False\n"
     ]
    }
   ],
   "source": [
    "print(\"Torch:\", torch.__version__)\n",
    "print(\"PyG:\", torch_geometric.__version__)\n",
    "print(\"CUDA available:\", torch.cuda.is_available())"
   ]
  },
  {
   "cell_type": "code",
   "execution_count": 167,
   "id": "6a194600-754e-45da-a7f6-8ebbd0e15251",
   "metadata": {},
   "outputs": [
    {
     "name": "stdout",
     "output_type": "stream",
     "text": [
      "Requirement already satisfied: torch in /opt/anaconda3/lib/python3.11/site-packages (2.2.2)\n",
      "Requirement already satisfied: filelock in /opt/anaconda3/lib/python3.11/site-packages (from torch) (3.13.1)\n",
      "Requirement already satisfied: typing-extensions>=4.8.0 in /opt/anaconda3/lib/python3.11/site-packages (from torch) (4.14.1)\n",
      "Requirement already satisfied: sympy in /opt/anaconda3/lib/python3.11/site-packages (from torch) (1.13.3)\n",
      "Requirement already satisfied: networkx in /opt/anaconda3/lib/python3.11/site-packages (from torch) (3.1)\n",
      "Requirement already satisfied: jinja2 in /opt/anaconda3/lib/python3.11/site-packages (from torch) (3.1.3)\n",
      "Requirement already satisfied: fsspec in /opt/anaconda3/lib/python3.11/site-packages (from torch) (2023.10.0)\n",
      "Requirement already satisfied: MarkupSafe>=2.0 in /opt/anaconda3/lib/python3.11/site-packages (from jinja2->torch) (2.1.3)\n",
      "Requirement already satisfied: mpmath<1.4,>=1.1.0 in /opt/anaconda3/lib/python3.11/site-packages (from sympy->torch) (1.3.0)\n",
      "Looking in links: https://data.pyg.org/whl/torch-2.1.0+cpu.html\n",
      "Collecting torch-scatter\n",
      "  Downloading https://data.pyg.org/whl/torch-2.1.0%2Bcpu/torch_scatter-2.1.2-cp311-cp311-macosx_10_9_universal2.whl (652 kB)\n",
      "\u001b[2K     \u001b[90m━━━━━━━━━━━━━━━━━━━━━━━━━━━━━━━━━━━━━━━━\u001b[0m \u001b[32m652.1/652.1 kB\u001b[0m \u001b[31m2.2 MB/s\u001b[0m  \u001b[33m0:00:00\u001b[0meta \u001b[36m0:00:01\u001b[0m\n",
      "\u001b[?25hCollecting torch-sparse\n",
      "  Downloading https://data.pyg.org/whl/torch-2.1.0%2Bcpu/torch_sparse-0.6.18-cp311-cp311-macosx_10_9_universal2.whl (975 kB)\n",
      "\u001b[2K     \u001b[90m━━━━━━━━━━━━━━━━━━━━━━━━━━━━━━━━━━━━━━━━\u001b[0m \u001b[32m975.4/975.4 kB\u001b[0m \u001b[31m2.6 MB/s\u001b[0m  \u001b[33m0:00:00\u001b[0m36m-:--:--\u001b[0m\n",
      "\u001b[?25hCollecting torch-cluster\n",
      "  Downloading https://data.pyg.org/whl/torch-2.1.0%2Bcpu/torch_cluster-1.6.3-cp311-cp311-macosx_10_9_universal2.whl (573 kB)\n",
      "\u001b[2K     \u001b[90m━━━━━━━━━━━━━━━━━━━━━━━━━━━━━━━━━━━━━━━━\u001b[0m \u001b[32m573.2/573.2 kB\u001b[0m \u001b[31m1.9 MB/s\u001b[0m  \u001b[33m0:00:00\u001b[0m36m-:--:--\u001b[0m\n",
      "\u001b[?25hCollecting torch-spline-conv\n",
      "  Downloading https://data.pyg.org/whl/torch-2.1.0%2Bcpu/torch_spline_conv-1.2.2-cp311-cp311-macosx_10_9_universal2.whl (205 kB)\n",
      "Requirement already satisfied: torch-geometric in /opt/anaconda3/lib/python3.11/site-packages (2.5.2)\n",
      "Requirement already satisfied: scipy in /opt/anaconda3/lib/python3.11/site-packages (from torch-sparse) (1.11.4)\n",
      "Requirement already satisfied: tqdm in /opt/anaconda3/lib/python3.11/site-packages (from torch-geometric) (4.65.0)\n",
      "Requirement already satisfied: numpy in /opt/anaconda3/lib/python3.11/site-packages (from torch-geometric) (1.26.4)\n",
      "Requirement already satisfied: fsspec in /opt/anaconda3/lib/python3.11/site-packages (from torch-geometric) (2023.10.0)\n",
      "Requirement already satisfied: jinja2 in /opt/anaconda3/lib/python3.11/site-packages (from torch-geometric) (3.1.3)\n",
      "Requirement already satisfied: aiohttp in /opt/anaconda3/lib/python3.11/site-packages (from torch-geometric) (3.9.3)\n",
      "Requirement already satisfied: requests in /opt/anaconda3/lib/python3.11/site-packages (from torch-geometric) (2.31.0)\n",
      "Requirement already satisfied: pyparsing in /opt/anaconda3/lib/python3.11/site-packages (from torch-geometric) (3.0.9)\n",
      "Requirement already satisfied: scikit-learn in /opt/anaconda3/lib/python3.11/site-packages (from torch-geometric) (1.2.2)\n",
      "Requirement already satisfied: psutil>=5.8.0 in /opt/anaconda3/lib/python3.11/site-packages (from torch-geometric) (5.9.0)\n",
      "Requirement already satisfied: aiosignal>=1.1.2 in /opt/anaconda3/lib/python3.11/site-packages (from aiohttp->torch-geometric) (1.2.0)\n",
      "Requirement already satisfied: attrs>=17.3.0 in /opt/anaconda3/lib/python3.11/site-packages (from aiohttp->torch-geometric) (25.3.0)\n",
      "Requirement already satisfied: frozenlist>=1.1.1 in /opt/anaconda3/lib/python3.11/site-packages (from aiohttp->torch-geometric) (1.4.0)\n",
      "Requirement already satisfied: multidict<7.0,>=4.5 in /opt/anaconda3/lib/python3.11/site-packages (from aiohttp->torch-geometric) (6.0.4)\n",
      "Requirement already satisfied: yarl<2.0,>=1.0 in /opt/anaconda3/lib/python3.11/site-packages (from aiohttp->torch-geometric) (1.9.3)\n",
      "Requirement already satisfied: idna>=2.0 in /opt/anaconda3/lib/python3.11/site-packages (from yarl<2.0,>=1.0->aiohttp->torch-geometric) (3.4)\n",
      "Requirement already satisfied: MarkupSafe>=2.0 in /opt/anaconda3/lib/python3.11/site-packages (from jinja2->torch-geometric) (2.1.3)\n",
      "Requirement already satisfied: charset-normalizer<4,>=2 in /opt/anaconda3/lib/python3.11/site-packages (from requests->torch-geometric) (2.0.4)\n",
      "Requirement already satisfied: urllib3<3,>=1.21.1 in /opt/anaconda3/lib/python3.11/site-packages (from requests->torch-geometric) (2.5.0)\n",
      "Requirement already satisfied: certifi>=2017.4.17 in /opt/anaconda3/lib/python3.11/site-packages (from requests->torch-geometric) (2025.7.14)\n",
      "Requirement already satisfied: joblib>=1.1.1 in /opt/anaconda3/lib/python3.11/site-packages (from scikit-learn->torch-geometric) (1.2.0)\n",
      "Requirement already satisfied: threadpoolctl>=2.0.0 in /opt/anaconda3/lib/python3.11/site-packages (from scikit-learn->torch-geometric) (2.2.0)\n",
      "Installing collected packages: torch-spline-conv, torch-scatter, torch-sparse, torch-cluster\n",
      "\u001b[2K   \u001b[90m━━━━━━━━━━━━━━━━━━━━━━━━━━━━━━━━━━━━━━━━\u001b[0m \u001b[32m4/4\u001b[0m [torch-cluster]\n",
      "\u001b[1A\u001b[2KSuccessfully installed torch-cluster-1.6.3 torch-scatter-2.1.2 torch-sparse-0.6.18 torch-spline-conv-1.2.2\n",
      "Requirement already satisfied: numpy in /opt/anaconda3/lib/python3.11/site-packages (1.26.4)\n",
      "Requirement already satisfied: pandas in /opt/anaconda3/lib/python3.11/site-packages (2.1.4)\n",
      "Requirement already satisfied: scipy in /opt/anaconda3/lib/python3.11/site-packages (1.11.4)\n",
      "Requirement already satisfied: python-dateutil>=2.8.2 in /opt/anaconda3/lib/python3.11/site-packages (from pandas) (2.8.2)\n",
      "Requirement already satisfied: pytz>=2020.1 in /opt/anaconda3/lib/python3.11/site-packages (from pandas) (2023.3.post1)\n",
      "Requirement already satisfied: tzdata>=2022.1 in /opt/anaconda3/lib/python3.11/site-packages (from pandas) (2023.3)\n",
      "Requirement already satisfied: six>=1.5 in /opt/anaconda3/lib/python3.11/site-packages (from python-dateutil>=2.8.2->pandas) (1.16.0)\n",
      "Requirement already satisfied: networkx in /opt/anaconda3/lib/python3.11/site-packages (3.1)\n"
     ]
    }
   ],
   "source": [
    "# PyTorch (CPU 전용)\n",
    "!pip install torch\n",
    "# PyTorch Geometric (PyG CPU 빌드)\n",
    "!pip install torch-scatter torch-sparse torch-cluster torch-spline-conv torch-geometric -f https://data.pyg.org/whl/torch-2.1.0+cpu.html\n",
    "\n",
    "# 과학계산/데이터 처리 패키지\n",
    "!pip install numpy pandas scipy\n",
    "\n",
    "# (옵션) 데이터 구조\n",
    "!pip install networkx\n"
   ]
  },
  {
   "cell_type": "markdown",
   "id": "fb17b6e2-dda4-4775-89d4-378f97794305",
   "metadata": {
    "jp-MarkdownHeadingCollapsed": true
   },
   "source": [
    "# Troubleshooting"
   ]
  },
  {
   "cell_type": "code",
   "execution_count": 38,
   "id": "585a4a21-d18e-49d6-8481-71ad1b99ce73",
   "metadata": {},
   "outputs": [
    {
     "name": "stdout",
     "output_type": "stream",
     "text": [
      "[PAP] shape=(5000, 5000), nnz=0\n",
      "  pairs.shape=(2, 0)\n",
      "  sample: []\n",
      "[PCP] shape=(5000, 5000), nnz=0\n",
      "  pairs.shape=(2, 0)\n",
      "  sample: []\n"
     ]
    }
   ],
   "source": [
    "for name, M in mps.items():\n",
    "    print(f\"[{name}] shape={M.shape}, nnz={M.nnz}\")\n",
    "\n",
    "    pairs = csr_to_pairs(M, max_pos_per_node=20, seed=42)\n",
    "    print(f\"  pairs.shape={pairs.shape}\")\n",
    "    if pairs.shape[0] > 0:\n",
    "        print(\"  sample:\", pairs[:5])\n"
   ]
  },
  {
   "cell_type": "code",
   "execution_count": 40,
   "id": "93c6d46c-b93e-408b-a54c-4e0abea6031b",
   "metadata": {},
   "outputs": [
    {
     "name": "stdout",
     "output_type": "stream",
     "text": [
      "edge_wrote: torch.Size([2, 40758])\n",
      "edge_has_topic: torch.Size([2, 82238])\n",
      "A_AP shape: (33607, 5000) nnz: 1\n",
      "A_PC shape: (5000, 6901) nnz: 82238\n"
     ]
    }
   ],
   "source": [
    "print(\"edge_wrote:\", data['author','wrote','paper'].edge_index.shape)\n",
    "print(\"edge_has_topic:\", data['paper','has_topic','concept'].edge_index.shape)\n",
    "\n",
    "print(\"A_AP shape:\", A_AP.shape, \"nnz:\", A_AP.nnz)\n",
    "print(\"A_PC shape:\", A_PC.shape, \"nnz:\", A_PC.nnz)\n"
   ]
  },
  {
   "cell_type": "markdown",
   "id": "ba137aea-b38d-4033-aa3c-d807218593f8",
   "metadata": {},
   "source": [
    "저자–논문 adjacency에 단 1개 엣지만 살아남음 (4만 건 중 1개만)."
   ]
  },
  {
   "cell_type": "code",
   "execution_count": 44,
   "id": "7269cd8d-7ec5-4711-9617-99d51958f716",
   "metadata": {},
   "outputs": [
    {
     "name": "stdout",
     "output_type": "stream",
     "text": [
      "Author ID max: nan expected < 33607\n",
      "Paper ID max: nan expected < 5000\n",
      "Author ID min: nan\n",
      "Paper ID min: nan\n"
     ]
    }
   ],
   "source": [
    "print(\"Author ID max:\", df_wrote['src'].max(), \"expected <\", A)\n",
    "print(\"Paper ID max:\", df_wrote['dst'].max(), \"expected <\", P)\n",
    "print(\"Author ID min:\", df_wrote['src'].min())\n",
    "print(\"Paper ID min:\", df_wrote['dst'].min())\n"
   ]
  },
  {
   "cell_type": "code",
   "execution_count": 48,
   "id": "1e620d76-6733-4ce7-af99-1cf72379c68f",
   "metadata": {},
   "outputs": [
    {
     "name": "stdout",
     "output_type": "stream",
     "text": [
      "     src  dst  author_order\n",
      "0   8136    0             1\n",
      "1  17961    0             2\n",
      "2   1297    0             3\n",
      "3  13091    0             4\n",
      "4   5067    1             1\n",
      "src             int64\n",
      "dst             int64\n",
      "author_order    int64\n",
      "dtype: object\n",
      "src             0\n",
      "dst             0\n",
      "author_order    0\n",
      "dtype: int64\n"
     ]
    }
   ],
   "source": [
    "df_wrote = pd.read_csv(\"edge_wrote.csv\")\n",
    "print(df_wrote.head())\n",
    "print(df_wrote.dtypes)\n",
    "print(df_wrote.isna().sum())\n"
   ]
  },
  {
   "cell_type": "code",
   "execution_count": 50,
   "id": "18da6624-b9d6-476c-82ef-edbed10e506d",
   "metadata": {},
   "outputs": [
    {
     "name": "stdout",
     "output_type": "stream",
     "text": [
      "edge_ap shape: torch.Size([2, 40758])\n",
      "max author id: 0 expected < 33607\n",
      "max paper id: 0 expected < 5000\n"
     ]
    }
   ],
   "source": [
    "print(\"edge_ap shape:\", data[\"author\",\"wrote\",\"paper\"].edge_index.shape)\n",
    "print(\"max author id:\", data[\"author\",\"wrote\",\"paper\"].edge_index[0].max().item(), \"expected <\", A)\n",
    "print(\"max paper id:\", data[\"author\",\"wrote\",\"paper\"].edge_index[1].max().item(), \"expected <\", P)\n"
   ]
  },
  {
   "cell_type": "code",
   "execution_count": 54,
   "id": "d7bc7c9d-9f6e-47ff-8975-e3ed8407b581",
   "metadata": {},
   "outputs": [
    {
     "name": "stdout",
     "output_type": "stream",
     "text": [
      "src             int64\n",
      "dst             int64\n",
      "author_order    int64\n",
      "dtype: object\n",
      "     src  dst  author_order\n",
      "0   8136    0             1\n",
      "1  17961    0             2\n",
      "2   1297    0             3\n",
      "3  13091    0             4\n",
      "4   5067    1             1\n"
     ]
    }
   ],
   "source": [
    "df_wrote = pd.read_csv(\"edge_wrote.csv\", dtype={\"src\": int, \"dst\": int})\n",
    "print(df_wrote.dtypes)  # 확인\n",
    "print(df_wrote.head())  # 다시 확인\n"
   ]
  },
  {
   "cell_type": "code",
   "execution_count": 56,
   "id": "99db2599-67b7-4cdc-aea8-3c10d7a4ff3e",
   "metadata": {},
   "outputs": [],
   "source": [
    "edge_ap = torch.tensor(\n",
    "    df_wrote[['src','dst']].to_numpy(dtype=np.int64).T,\n",
    "    dtype=torch.long\n",
    ")\n",
    "data['author','wrote','paper'].edge_index = edge_ap\n"
   ]
  },
  {
   "cell_type": "code",
   "execution_count": 58,
   "id": "58e57033-bae0-43fb-bb20-a2f003f16d15",
   "metadata": {},
   "outputs": [
    {
     "name": "stdout",
     "output_type": "stream",
     "text": [
      "edge_ap shape: torch.Size([2, 40758])\n",
      "max author id: 33606 expected < 33607\n",
      "max paper id: 4999 expected < 5000\n"
     ]
    }
   ],
   "source": [
    "print(\"edge_ap shape:\", edge_ap.shape)\n",
    "print(\"max author id:\", edge_ap[0].max().item(), \"expected <\", A)\n",
    "print(\"max paper id:\", edge_ap[1].max().item(), \"expected <\", P)\n"
   ]
  },
  {
   "cell_type": "code",
   "execution_count": 60,
   "id": "9de9ce5d-d4a5-4075-ba25-6e959ddc0a70",
   "metadata": {},
   "outputs": [
    {
     "name": "stdout",
     "output_type": "stream",
     "text": [
      "edge_pc shape: torch.Size([2, 82238])\n",
      "max paper id: 0 expected < 5000\n",
      "max concept id: 0 expected < 6901\n"
     ]
    }
   ],
   "source": [
    "print(\"edge_pc shape:\", edge_pc.shape)\n",
    "print(\"max paper id:\", edge_pc[0].max().item(), \"expected <\", P)\n",
    "print(\"max concept id:\", edge_pc[1].max().item(), \"expected <\", C)\n"
   ]
  },
  {
   "cell_type": "code",
   "execution_count": 62,
   "id": "4da46289-6053-4db8-a5bf-48a75a6bc7ac",
   "metadata": {},
   "outputs": [
    {
     "name": "stdout",
     "output_type": "stream",
     "text": [
      "src                int64\n",
      "dst                int64\n",
      "concept_level      int64\n",
      "concept_score    float64\n",
      "dtype: object\n",
      "   src   dst  concept_level  concept_score\n",
      "0    0  3526              2       0.812645\n",
      "1    0  1937              2       0.563623\n",
      "2    0   552              1       0.410001\n",
      "3    0  5006              0       0.368186\n",
      "4    0   539              0       0.313520\n"
     ]
    }
   ],
   "source": [
    "df_wrote = pd.read_csv(\"edge_has_topic.csv\", dtype={\"src\": int, \"dst\": int})\n",
    "print(df_wrote.dtypes)  # 확인\n",
    "print(df_wrote.head())  # 다시 확인\n"
   ]
  },
  {
   "cell_type": "code",
   "execution_count": 67,
   "id": "9eaffbc5-0490-4a5d-abb0-4cfd26f49eff",
   "metadata": {},
   "outputs": [
    {
     "name": "stdout",
     "output_type": "stream",
     "text": [
      "\n",
      "=== wrote (edge_wrote.csv) ===\n",
      "컬럼: ['src', 'dst', 'author_order']\n",
      "src             int64\n",
      "dst             int64\n",
      "author_order    int64\n",
      "dtype: object\n",
      "행 수: 40758\n",
      "  - src: unique=33607  null=0\n",
      "  - dst: unique=5000  null=0\n",
      "  - author_order: unique=100  null=0\n",
      "     src  dst  author_order\n",
      "0   8136    0             1\n",
      "1  17961    0             2\n",
      "2   1297    0             3\n",
      "3  13091    0             4\n",
      "4   5067    1             1\n",
      "\n",
      "=== has_topic (edge_has_topic.csv) ===\n",
      "컬럼: ['src', 'dst', 'concept_level', 'concept_score']\n",
      "src                int64\n",
      "dst                int64\n",
      "concept_level      int64\n",
      "concept_score    float64\n",
      "dtype: object\n",
      "행 수: 82238\n",
      "  - src: unique=5000  null=0\n",
      "  - dst: unique=6901  null=0\n",
      "  - concept_level: unique=6  null=0\n",
      "  - concept_score: unique=64396  null=0\n",
      "   src   dst  concept_level  concept_score\n",
      "0    0  3526              2       0.812645\n",
      "1    0  1937              2       0.563623\n",
      "2    0   552              1       0.410001\n",
      "3    0  5006              0       0.368186\n",
      "4    0   539              0       0.313520\n",
      "\n",
      "=== cites (edge_cites.csv) ===\n",
      "컬럼: ['src', 'dst', 'src_year', 'dst_year']\n",
      "src         int64\n",
      "dst         int64\n",
      "src_year    int64\n",
      "dst_year    int64\n",
      "dtype: object\n",
      "행 수: 8186\n",
      "  - src: unique=2364  null=0\n",
      "  - dst: unique=2615  null=0\n",
      "  - src_year: unique=6  null=0\n",
      "  - dst_year: unique=6  null=0\n",
      "   src   dst  src_year  dst_year\n",
      "0    0  4517      2020      2019\n",
      "1    0  3007      2020      2020\n",
      "2    1  2972      2022      2021\n",
      "3    2  2516      2019      2019\n",
      "4    2   233      2019      2019\n",
      "\n",
      "=== worked_with (edge_worked_with.csv) ===\n",
      "컬럼: ['src', 'dst', 'weight']\n",
      "src       int64\n",
      "dst       int64\n",
      "weight    int64\n",
      "dtype: object\n",
      "행 수: 984700\n",
      "  - src: unique=33423  null=0\n",
      "  - dst: unique=33423  null=0\n",
      "  - weight: unique=10  null=0\n",
      "   src    dst  weight\n",
      "0    0   4428       1\n",
      "1    0   5994       1\n",
      "2    0  10178       1\n",
      "3    0  12450       1\n",
      "4    0  13559       1\n"
     ]
    }
   ],
   "source": [
    "import pandas as pd\n",
    "\n",
    "paths = {\n",
    "    \"wrote\": \"edge_wrote.csv\",\n",
    "    \"has_topic\": \"edge_has_topic.csv\",\n",
    "    \"cites\": \"edge_cites.csv\",\n",
    "    \"worked_with\": \"edge_worked_with.csv\"\n",
    "}\n",
    "\n",
    "for name, path in paths.items():\n",
    "    print(f\"\\n=== {name} ({path}) ===\")\n",
    "    df = pd.read_csv(path)\n",
    "\n",
    "    # 컬럼명 및 타입\n",
    "    print(\"컬럼:\", df.columns.tolist())\n",
    "    print(df.dtypes)\n",
    "\n",
    "    # 행 개수, 고유값 개수\n",
    "    print(\"행 수:\", len(df))\n",
    "    for col in df.columns:\n",
    "        print(f\"  - {col}: unique={df[col].nunique()}  null={df[col].isna().sum()}\")\n",
    "\n",
    "    # 샘플 5개\n",
    "    print(df.head(5))\n"
   ]
  },
  {
   "cell_type": "code",
   "execution_count": 69,
   "id": "ccd2156b-d91b-423a-b537-de744ece5e97",
   "metadata": {},
   "outputs": [
    {
     "ename": "KeyError",
     "evalue": "'author_id'",
     "output_type": "error",
     "traceback": [
      "\u001b[0;31m---------------------------------------------------------------------------\u001b[0m",
      "\u001b[0;31mKeyError\u001b[0m                                  Traceback (most recent call last)",
      "File \u001b[0;32m/opt/anaconda3/lib/python3.11/site-packages/pandas/core/indexes/base.py:3791\u001b[0m, in \u001b[0;36mIndex.get_loc\u001b[0;34m(self, key)\u001b[0m\n\u001b[1;32m   3790\u001b[0m \u001b[38;5;28;01mtry\u001b[39;00m:\n\u001b[0;32m-> 3791\u001b[0m     \u001b[38;5;28;01mreturn\u001b[39;00m \u001b[38;5;28mself\u001b[39m\u001b[38;5;241m.\u001b[39m_engine\u001b[38;5;241m.\u001b[39mget_loc(casted_key)\n\u001b[1;32m   3792\u001b[0m \u001b[38;5;28;01mexcept\u001b[39;00m \u001b[38;5;167;01mKeyError\u001b[39;00m \u001b[38;5;28;01mas\u001b[39;00m err:\n",
      "File \u001b[0;32mindex.pyx:152\u001b[0m, in \u001b[0;36mpandas._libs.index.IndexEngine.get_loc\u001b[0;34m()\u001b[0m\n",
      "File \u001b[0;32mindex.pyx:181\u001b[0m, in \u001b[0;36mpandas._libs.index.IndexEngine.get_loc\u001b[0;34m()\u001b[0m\n",
      "File \u001b[0;32mpandas/_libs/hashtable_class_helper.pxi:7080\u001b[0m, in \u001b[0;36mpandas._libs.hashtable.PyObjectHashTable.get_item\u001b[0;34m()\u001b[0m\n",
      "File \u001b[0;32mpandas/_libs/hashtable_class_helper.pxi:7088\u001b[0m, in \u001b[0;36mpandas._libs.hashtable.PyObjectHashTable.get_item\u001b[0;34m()\u001b[0m\n",
      "\u001b[0;31mKeyError\u001b[0m: 'author_id'",
      "\nThe above exception was the direct cause of the following exception:\n",
      "\u001b[0;31mKeyError\u001b[0m                                  Traceback (most recent call last)",
      "Cell \u001b[0;32mIn[69], line 1\u001b[0m\n\u001b[0;32m----> 1\u001b[0m df[\u001b[38;5;124m\"\u001b[39m\u001b[38;5;124mauthor_id\u001b[39m\u001b[38;5;124m\"\u001b[39m]\u001b[38;5;241m.\u001b[39mastype(\u001b[38;5;28mstr\u001b[39m)\u001b[38;5;241m.\u001b[39mmap(\u001b[38;5;28;01mlambda\u001b[39;00m x: \u001b[38;5;124mf\u001b[39m\u001b[38;5;124m\"\u001b[39m\u001b[38;5;124m'\u001b[39m\u001b[38;5;132;01m{\u001b[39;00mx\u001b[38;5;132;01m}\u001b[39;00m\u001b[38;5;124m'\u001b[39m\u001b[38;5;124m\"\u001b[39m)\u001b[38;5;241m.\u001b[39mhead(\u001b[38;5;241m10\u001b[39m)\n",
      "File \u001b[0;32m/opt/anaconda3/lib/python3.11/site-packages/pandas/core/frame.py:3893\u001b[0m, in \u001b[0;36mDataFrame.__getitem__\u001b[0;34m(self, key)\u001b[0m\n\u001b[1;32m   3891\u001b[0m \u001b[38;5;28;01mif\u001b[39;00m \u001b[38;5;28mself\u001b[39m\u001b[38;5;241m.\u001b[39mcolumns\u001b[38;5;241m.\u001b[39mnlevels \u001b[38;5;241m>\u001b[39m \u001b[38;5;241m1\u001b[39m:\n\u001b[1;32m   3892\u001b[0m     \u001b[38;5;28;01mreturn\u001b[39;00m \u001b[38;5;28mself\u001b[39m\u001b[38;5;241m.\u001b[39m_getitem_multilevel(key)\n\u001b[0;32m-> 3893\u001b[0m indexer \u001b[38;5;241m=\u001b[39m \u001b[38;5;28mself\u001b[39m\u001b[38;5;241m.\u001b[39mcolumns\u001b[38;5;241m.\u001b[39mget_loc(key)\n\u001b[1;32m   3894\u001b[0m \u001b[38;5;28;01mif\u001b[39;00m is_integer(indexer):\n\u001b[1;32m   3895\u001b[0m     indexer \u001b[38;5;241m=\u001b[39m [indexer]\n",
      "File \u001b[0;32m/opt/anaconda3/lib/python3.11/site-packages/pandas/core/indexes/base.py:3798\u001b[0m, in \u001b[0;36mIndex.get_loc\u001b[0;34m(self, key)\u001b[0m\n\u001b[1;32m   3793\u001b[0m     \u001b[38;5;28;01mif\u001b[39;00m \u001b[38;5;28misinstance\u001b[39m(casted_key, \u001b[38;5;28mslice\u001b[39m) \u001b[38;5;129;01mor\u001b[39;00m (\n\u001b[1;32m   3794\u001b[0m         \u001b[38;5;28misinstance\u001b[39m(casted_key, abc\u001b[38;5;241m.\u001b[39mIterable)\n\u001b[1;32m   3795\u001b[0m         \u001b[38;5;129;01mand\u001b[39;00m \u001b[38;5;28many\u001b[39m(\u001b[38;5;28misinstance\u001b[39m(x, \u001b[38;5;28mslice\u001b[39m) \u001b[38;5;28;01mfor\u001b[39;00m x \u001b[38;5;129;01min\u001b[39;00m casted_key)\n\u001b[1;32m   3796\u001b[0m     ):\n\u001b[1;32m   3797\u001b[0m         \u001b[38;5;28;01mraise\u001b[39;00m InvalidIndexError(key)\n\u001b[0;32m-> 3798\u001b[0m     \u001b[38;5;28;01mraise\u001b[39;00m \u001b[38;5;167;01mKeyError\u001b[39;00m(key) \u001b[38;5;28;01mfrom\u001b[39;00m \u001b[38;5;21;01merr\u001b[39;00m\n\u001b[1;32m   3799\u001b[0m \u001b[38;5;28;01mexcept\u001b[39;00m \u001b[38;5;167;01mTypeError\u001b[39;00m:\n\u001b[1;32m   3800\u001b[0m     \u001b[38;5;66;03m# If we have a listlike key, _check_indexing_error will raise\u001b[39;00m\n\u001b[1;32m   3801\u001b[0m     \u001b[38;5;66;03m#  InvalidIndexError. Otherwise we fall through and re-raise\u001b[39;00m\n\u001b[1;32m   3802\u001b[0m     \u001b[38;5;66;03m#  the TypeError.\u001b[39;00m\n\u001b[1;32m   3803\u001b[0m     \u001b[38;5;28mself\u001b[39m\u001b[38;5;241m.\u001b[39m_check_indexing_error(key)\n",
      "\u001b[0;31mKeyError\u001b[0m: 'author_id'"
     ]
    }
   ],
   "source": [
    "df[\"author_id\"].astype(str).map(lambda x: f\"'{x}'\").head(10)\n"
   ]
  },
  {
   "cell_type": "markdown",
   "id": "75829d8b-4060-4b66-ab13-ff7fce3b9100",
   "metadata": {},
   "source": [
    "# pkl 만들기"
   ]
  },
  {
   "cell_type": "code",
   "execution_count": 17,
   "id": "ae1e538d-6999-4f4c-80c4-863ffe2fc592",
   "metadata": {},
   "outputs": [
    {
     "name": "stdout",
     "output_type": "stream",
     "text": [
      "\n",
      "=== wrote (edge_wrote.csv) ===\n",
      "컬럼: ['src', 'dst', 'author_order']\n",
      "src             int64\n",
      "dst             int64\n",
      "author_order    int64\n",
      "dtype: object\n",
      "행 수: 40758\n",
      "  - src: unique=33607 null=0 min=0 max=33606\n",
      "  - dst: unique=5000 null=0 min=0 max=4999\n",
      "  - author_order: unique=100 null=0 min=1 max=100\n",
      "샘플 rows:\n",
      "     src  dst  author_order\n",
      "0   8136    0             1\n",
      "1  17961    0             2\n",
      "2   1297    0             3\n",
      "3  13091    0             4\n",
      "4   5067    1             1\n",
      "\n",
      "=== has_topic (edge_has_topic.csv) ===\n",
      "컬럼: ['src', 'dst', 'concept_level', 'concept_score']\n",
      "src                int64\n",
      "dst                int64\n",
      "concept_level      int64\n",
      "concept_score    float64\n",
      "dtype: object\n",
      "행 수: 82238\n",
      "  - src: unique=5000 null=0 min=0 max=4999\n",
      "  - dst: unique=6901 null=0 min=0 max=6900\n",
      "  - concept_level: unique=6 null=0 min=0 max=5\n",
      "  - concept_score: unique=64396 null=0 min=0.0 max=0.9991346\n",
      "샘플 rows:\n",
      "   src   dst  concept_level  concept_score\n",
      "0    0  3526              2       0.812645\n",
      "1    0  1937              2       0.563623\n",
      "2    0   552              1       0.410001\n",
      "3    0  5006              0       0.368186\n",
      "4    0   539              0       0.313520\n",
      "\n",
      "=== cites (edge_cites.csv) ===\n",
      "컬럼: ['src', 'dst', 'src_year', 'dst_year']\n",
      "src         int64\n",
      "dst         int64\n",
      "src_year    int64\n",
      "dst_year    int64\n",
      "dtype: object\n",
      "행 수: 8186\n",
      "  - src: unique=2364 null=0 min=0 max=4999\n",
      "  - dst: unique=2615 null=0 min=0 max=4999\n",
      "  - src_year: unique=6 null=0 min=2019 max=2024\n",
      "  - dst_year: unique=6 null=0 min=2019 max=2024\n",
      "샘플 rows:\n",
      "   src   dst  src_year  dst_year\n",
      "0    0  4517      2020      2019\n",
      "1    0  3007      2020      2020\n",
      "2    1  2972      2022      2021\n",
      "3    2  2516      2019      2019\n",
      "4    2   233      2019      2019\n",
      "\n",
      "=== worked_with (edge_worked_with.csv) ===\n",
      "컬럼: ['src', 'dst', 'weight']\n",
      "src       int64\n",
      "dst       int64\n",
      "weight    int64\n",
      "dtype: object\n",
      "행 수: 984700\n",
      "  - src: unique=33423 null=0 min=0 max=33606\n",
      "  - dst: unique=33423 null=0 min=0 max=33606\n",
      "  - weight: unique=10 null=0 min=1 max=12\n",
      "샘플 rows:\n",
      "   src    dst  weight\n",
      "0    0   4428       1\n",
      "1    0   5994       1\n",
      "2    0  10178       1\n",
      "3    0  12450       1\n",
      "4    0  13559       1\n",
      "\n",
      "=== paper feats ===\n",
      "❓ 알 수 없는 타입: <class 'str'>\n",
      "\n",
      "=== author feats ===\n",
      "❓ 알 수 없는 타입: <class 'str'>\n",
      "\n",
      "=== concept feats ===\n",
      "❓ 알 수 없는 타입: <class 'str'>\n"
     ]
    }
   ],
   "source": [
    "import os\n",
    "import pandas as pd\n",
    "import numpy as np\n",
    "import torch\n",
    "\n",
    "# ==========================\n",
    "# 1. Edge CSV 점검 함수\n",
    "# ==========================\n",
    "def check_edge_csv(path, name, nrows=5):\n",
    "    print(f\"\\n=== {name} ({path}) ===\")\n",
    "    if not os.path.exists(path):\n",
    "        print(\"❌ 파일 없음\")\n",
    "        return\n",
    "    df = pd.read_csv(path)\n",
    "    print(\"컬럼:\", df.columns.tolist())\n",
    "    print(df.dtypes)\n",
    "    print(\"행 수:\", len(df))\n",
    "    for col in df.columns:\n",
    "        print(f\"  - {col}: unique={df[col].nunique()} null={df[col].isna().sum()} \"\n",
    "              f\"min={df[col].min()} max={df[col].max()}\")\n",
    "    print(\"샘플 rows:\")\n",
    "    print(df.head(nrows))\n",
    "    return df\n",
    "\n",
    "# ==========================\n",
    "# 2. Feature 텐서 점검 함수\n",
    "# ==========================\n",
    "def check_feats(feat_dict):\n",
    "    for k, v in feat_dict.items():\n",
    "        print(f\"\\n=== {k} feats ===\")\n",
    "        if isinstance(v, torch.Tensor):\n",
    "            print(\"torch.Tensor\", v.shape, v.dtype)\n",
    "        elif isinstance(v, np.ndarray):\n",
    "            print(\"numpy.ndarray\", v.shape, v.dtype)\n",
    "        elif isinstance(v, str) and os.path.exists(v):\n",
    "            # 파일 경로라면 로드해서 확인\n",
    "            if v.endswith(\".pt\") or v.endswith(\".pkl\"):\n",
    "                t = torch.load(v)\n",
    "                print(f\"loaded torch {type(t)} shape={getattr(t, 'shape', None)}\")\n",
    "            elif v.endswith(\".npy\"):\n",
    "                a = np.load(v)\n",
    "                print(\"loaded numpy\", a.shape, a.dtype)\n",
    "            elif v.endswith(\".csv\"):\n",
    "                df = pd.read_csv(v)\n",
    "                print(\"loaded csv\", df.shape, \"cols:\", df.columns.tolist())\n",
    "                print(df.head(3))\n",
    "        else:\n",
    "            print(\"❓ 알 수 없는 타입:\", type(v))\n",
    "\n",
    "# ==========================\n",
    "# 실행 예시\n",
    "# ==========================\n",
    "# 1) Edge CSV 확인\n",
    "df_ap = check_edge_csv(\"edge_wrote.csv\", \"wrote\")\n",
    "df_pc = check_edge_csv(\"edge_has_topic.csv\", \"has_topic\")\n",
    "df_pp = check_edge_csv(\"edge_cites.csv\", \"cites\")\n",
    "df_aa = check_edge_csv(\"edge_worked_with.csv\", \"worked_with\")\n",
    "\n",
    "# 2) 노드 임베딩 확인 (여기에 실제 경로/객체 넣어주세요)\n",
    "# 예시: feats = {\"paper\": \"paper_feats.npy\", \"author\": \"author_feats.npy\", \"concept\": \"concept_feats.npy\"}\n",
    "# 또는 이미 torch.Tensor라면 그대로 넣어도 됩니다\n",
    "feats = {\n",
    "    \"paper\":   \"paper_feats.npy\",\n",
    "    \"author\":  \"author_feats.npy\",\n",
    "    \"concept\": \"concept_feats.npy\",\n",
    "}\n",
    "check_feats(feats)\n"
   ]
  },
  {
   "cell_type": "code",
   "execution_count": 19,
   "id": "005f0c63-ac34-4a28-afb1-2f8c126a722f",
   "metadata": {},
   "outputs": [
    {
     "name": "stdout",
     "output_type": "stream",
     "text": [
      "\n",
      "=== paper (cs_nodes_paper_emb.csv) ===\n",
      "컬럼 수: 833 행 수: 5000\n",
      "컬럼명: ['paper_id', 'venue_0', 'venue_1', 'venue_2', 'venue_3', 'venue_4', 'venue_5', 'venue_6', 'venue_7', 'venue_8'] ...\n",
      "paper_id     object\n",
      "venue_0     float64\n",
      "venue_1     float64\n",
      "venue_2     float64\n",
      "venue_3     float64\n",
      "venue_4     float64\n",
      "venue_5     float64\n",
      "venue_6     float64\n",
      "venue_7     float64\n",
      "venue_8     float64\n",
      "dtype: object\n",
      "샘플 rows:\n",
      "                           paper_id   venue_0   venue_1   venue_2   venue_3  \\\n",
      "0  https://openalex.org/W3010906965 -0.146592 -0.078469 -0.076921  0.009507   \n",
      "1  https://openalex.org/W4213446860  0.130415  0.136322 -0.114638 -0.069871   \n",
      "2  https://openalex.org/W2987460522  0.090419  0.206654 -0.113040  0.113296   \n",
      "3  https://openalex.org/W3133928066 -0.098734  0.012867 -0.092038  0.129437   \n",
      "4  https://openalex.org/W4382464460  0.178455  0.029983 -0.099174 -0.114309   \n",
      "\n",
      "    venue_4   venue_5   venue_6   venue_7   venue_8  ...   emb_758   emb_759  \\\n",
      "0  0.059249 -0.073674 -0.228234  0.123331 -0.069029  ... -0.036262 -0.349808   \n",
      "1  0.110752  0.156296 -0.133835  0.314146 -0.124120  ...  0.121183 -0.679482   \n",
      "2  0.207166  0.052175 -0.043197  0.225825  0.091186  ...  0.149175  0.099558   \n",
      "3 -0.133142 -0.028744  0.103507  0.157434 -0.065965  ...  0.631196 -0.249564   \n",
      "4  0.085119  0.106165 -0.014478  0.204258 -0.062128  ...  0.484330  0.102125   \n",
      "\n",
      "    emb_760   emb_761   emb_762   emb_763   emb_764   emb_765   emb_766  \\\n",
      "0  0.812181  0.675634  0.019620 -0.205038  0.010425  0.407560  0.706132   \n",
      "1  0.531348  0.487317  0.123190  0.138495  0.337093  0.166208 -0.045906   \n",
      "2  0.247046  0.196700 -0.084869 -0.271820 -0.090214  0.452711  0.143730   \n",
      "3  0.707891  0.158299 -0.087290 -0.618251 -0.415746  0.875426  0.001597   \n",
      "4  0.405319  0.546316 -0.065020  0.000368  0.155632  0.194233 -0.374711   \n",
      "\n",
      "    emb_767  \n",
      "0  0.210988  \n",
      "1  0.306707  \n",
      "2  0.221805  \n",
      "3  0.674589  \n",
      "4  0.159973  \n",
      "\n",
      "[5 rows x 833 columns]\n",
      "\n",
      "=== author (cs_nodes_author_emb.csv) ===\n",
      "컬럼 수: 769 행 수: 33607\n",
      "컬럼명: ['author_id', 'emb_0', 'emb_1', 'emb_2', 'emb_3', 'emb_4', 'emb_5', 'emb_6', 'emb_7', 'emb_8'] ...\n",
      "author_id      int64\n",
      "emb_0        float64\n",
      "emb_1        float64\n",
      "emb_2        float64\n",
      "emb_3        float64\n",
      "emb_4        float64\n",
      "emb_5        float64\n",
      "emb_6        float64\n",
      "emb_7        float64\n",
      "emb_8        float64\n",
      "dtype: object\n",
      "샘플 rows:\n",
      "    author_id     emb_0     emb_1     emb_2     emb_3     emb_4     emb_5  \\\n",
      "0  5026718416  2.403552 -0.817442  0.850047 -0.436486 -0.859241 -1.519797   \n",
      "1  5058947613  0.633941 -0.934294 -0.027548 -1.007276  0.614850 -0.351565   \n",
      "2  5004260600 -0.589806  0.312332 -0.212811  0.942570 -0.741441  1.082092   \n",
      "3  5042863303  0.389794  1.159175  0.339745 -0.770033 -0.756681 -0.304754   \n",
      "4  5016535318 -1.743112  0.718575 -1.938394  1.576220  0.215177 -0.535919   \n",
      "\n",
      "      emb_6     emb_7     emb_8  ...   emb_758   emb_759   emb_760   emb_761  \\\n",
      "0 -0.833959 -1.252185 -0.511600  ...  1.987564  1.268210  1.311306  0.403543   \n",
      "1  0.950588 -1.671776  0.354545  ... -1.758431 -0.151363  0.356149  0.055749   \n",
      "2 -0.577050 -1.069676  0.028321  ...  0.515838  0.260423  0.814786 -0.185864   \n",
      "3  0.886161 -0.909744 -1.338998  ...  0.787532 -0.809881  0.081449  0.504142   \n",
      "4  1.894044 -0.215215  2.061459  ... -1.735764 -1.618432  0.312581  1.476827   \n",
      "\n",
      "    emb_762   emb_763   emb_764   emb_765   emb_766   emb_767  \n",
      "0  0.695040  0.703225  0.180721  0.176824 -0.433958 -0.614472  \n",
      "1 -0.354770 -1.178243  0.619395 -0.995877  0.204378  0.644136  \n",
      "2  0.705070 -1.068216  0.380810 -0.706931  0.542115 -1.008372  \n",
      "3 -1.863240 -1.075625  0.059069 -0.298603 -0.693610  0.390500  \n",
      "4  1.523018 -0.450427  0.680438 -0.150050 -1.651090 -1.525476  \n",
      "\n",
      "[5 rows x 769 columns]\n",
      "\n",
      "=== concept (cs_nodes_concept_emb2.csv) ===\n",
      "❌ 파일 없음\n"
     ]
    }
   ],
   "source": [
    "import pandas as pd\n",
    "import os\n",
    "\n",
    "# 노드 임베딩 파일 경로\n",
    "node_files = {\n",
    "    \"paper\":   \"cs_nodes_paper_emb.csv\",   # 오타 아닌지 확인! (papar → paper?)\n",
    "    \"author\":  \"cs_nodes_author_emb.csv\",\n",
    "    \"concept\": \"cs_nodes_concept_emb2.csv\",\n",
    "}\n",
    "\n",
    "def check_node_csv(path, name, nrows=5):\n",
    "    print(f\"\\n=== {name} ({path}) ===\")\n",
    "    if not os.path.exists(path):\n",
    "        print(\"❌ 파일 없음\")\n",
    "        return\n",
    "    df = pd.read_csv(path)\n",
    "    print(\"컬럼 수:\", df.shape[1], \"행 수:\", df.shape[0])\n",
    "    print(\"컬럼명:\", df.columns.tolist()[:10], \"...\" if df.shape[1] > 10 else \"\")\n",
    "    print(df.dtypes.head(10))\n",
    "    print(\"샘플 rows:\")\n",
    "    print(df.head(nrows))\n",
    "    return df\n",
    "\n",
    "dfs = {}\n",
    "for k, path in node_files.items():\n",
    "    dfs[k] = check_node_csv(path, k)\n"
   ]
  },
  {
   "cell_type": "code",
   "execution_count": 20,
   "id": "90c46b86-e1f8-411d-8844-bdca9b880035",
   "metadata": {},
   "outputs": [
    {
     "name": "stdout",
     "output_type": "stream",
     "text": [
      "paper_df.index range: 0 4999 행 수: 5000\n"
     ]
    }
   ],
   "source": [
    "# paper feats\n",
    "paper_df = pd.read_csv(\"cs_nodes_paper_emb.csv\")\n",
    "paper_df = paper_df.sort_values(\"paper_id\").reset_index(drop=True)  # edge와 같은 순서로 맞추기\n",
    "paper_feats = torch.tensor(paper_df.drop(columns=[\"paper_id\"]).values, dtype=torch.float32)\n",
    "\n",
    "print(\"paper_df.index range:\", paper_df.index.min(), paper_df.index.max(), \"행 수:\", len(paper_df))\n"
   ]
  },
  {
   "cell_type": "code",
   "execution_count": 35,
   "id": "b09bf902-46e1-4118-8927-411f3eb790de",
   "metadata": {},
   "outputs": [
    {
     "name": "stdout",
     "output_type": "stream",
     "text": [
      "\n",
      "=== Author ===\n",
      "index range: 0 33606 행 수: 33607\n",
      "author_id 샘플: [5026718416, 5058947613, 5004260600, 5042863303, 5016535318]\n",
      "author_id 마지막 샘플: [5029501164, 5048947116, 5047852894, 5078252913, 5101762391]\n",
      "\n",
      "=== Concept ===\n",
      "index range: 0 6611 행 수: 6612\n",
      "concept_id 샘플: ['https://openalex.org/C2778029271', 'https://openalex.org/C177562468', 'https://openalex.org/C63479239', 'https://openalex.org/C55166926', 'https://openalex.org/C4679612']\n",
      "concept_id 마지막 샘플: ['https://openalex.org/C2776459890', 'https://openalex.org/C87227347', 'https://openalex.org/C140417398', 'https://openalex.org/C122280245', 'https://openalex.org/C134517425']\n"
     ]
    }
   ],
   "source": [
    "import pandas as pd\n",
    "\n",
    "# 파일 경로\n",
    "author_path = \"cs_nodes_author_emb.csv\"\n",
    "concept_path = \"nodes_concepts_with_emb.csv\"\n",
    "\n",
    "# Author 확인\n",
    "author_df = pd.read_csv(author_path)\n",
    "print(\"\\n=== Author ===\")\n",
    "print(\"index range:\", author_df.index.min(), author_df.index.max(), \"행 수:\", len(author_df))\n",
    "print(\"author_id 샘플:\", author_df[\"author_id\"].head().tolist())\n",
    "print(\"author_id 마지막 샘플:\", author_df[\"author_id\"].tail().tolist())\n",
    "\n",
    "# Concept 확인\n",
    "concept_df = pd.read_csv(concept_path, encoding=\"latin1\")\n",
    "print(\"\\n=== Concept ===\")\n",
    "print(\"index range:\", concept_df.index.min(), concept_df.index.max(), \"행 수:\", len(concept_df))\n",
    "print(\"concept_id 샘플:\", concept_df[\"concept_id\"].head().tolist())\n",
    "print(\"concept_id 마지막 샘플:\", concept_df[\"concept_id\"].tail().tolist())\n"
   ]
  },
  {
   "cell_type": "markdown",
   "id": "9b47ecc0-0346-4ecb-a98c-3916521d72b9",
   "metadata": {},
   "source": [
    "### 확인 끝 mydata.pkl 추출 시작"
   ]
  },
  {
   "cell_type": "markdown",
   "id": "0877cb20-1cb7-4921-abae-761926324a93",
   "metadata": {},
   "source": [
    "Import & 파일 로드"
   ]
  },
  {
   "cell_type": "code",
   "execution_count": 39,
   "id": "81c41b36-2c10-4515-8408-99c8e3707530",
   "metadata": {},
   "outputs": [],
   "source": [
    "import os\n",
    "import pandas as pd\n",
    "import numpy as np\n",
    "import torch\n",
    "from scipy.sparse import csr_matrix\n",
    "\n",
    "# Edge CSV 불러오기\n",
    "df_ap = pd.read_csv(\"edge_wrote.csv\")        # author–paper\n",
    "df_pc = pd.read_csv(\"edge_has_topic.csv\")    # paper–concept\n",
    "df_pp = pd.read_csv(\"edge_cites.csv\")        # paper–paper\n",
    "df_aa = pd.read_csv(\"edge_worked_with.csv\")  # author–author\n",
    "\n",
    "# Node CSV 불러오기\n",
    "paper_df = pd.read_csv(\"cs_nodes_paper_emb.csv\")     # 5000 × 832\n",
    "author_df = pd.read_csv(\"cs_nodes_author_emb.csv\")   # 33607 × 768\n",
    "concept_df = pd.read_csv(concept_path, encoding=\"latin1\") # 6612 x 768\n"
   ]
  },
  {
   "cell_type": "markdown",
   "id": "576c7b84-2f49-498f-8f19-8eb7f9b99b16",
   "metadata": {},
   "source": [
    "노드 개수 확인"
   ]
  },
  {
   "cell_type": "code",
   "execution_count": 56,
   "id": "8a46089e-4a13-49b3-a4e5-1452b8f8eada",
   "metadata": {},
   "outputs": [
    {
     "name": "stdout",
     "output_type": "stream",
     "text": [
      "#authors=33607, #papers=5000, #concepts=6612\n"
     ]
    }
   ],
   "source": [
    "na = len(author_df)   # 33607\n",
    "npapers = len(paper_df)  # 5000\n",
    "nc = len(concept_df)  # 6612\n",
    "print(f\"#authors={na}, #papers={npapers}, #concepts={nc}\")\n"
   ]
  },
  {
   "cell_type": "markdown",
   "id": "dc65af14-073b-43d3-8a2d-eccccd894a8e",
   "metadata": {},
   "source": [
    "Feature Tensor 만들기 (feats)"
   ]
  },
  {
   "cell_type": "code",
   "execution_count": 59,
   "id": "e1eb3c0b-0a71-4a4b-a106-5de1db585883",
   "metadata": {},
   "outputs": [
    {
     "name": "stdout",
     "output_type": "stream",
     "text": [
      "paper feats: torch.Size([5000, 832])\n",
      "author feats: torch.Size([33607, 768])\n",
      "concept feats: torch.Size([6612, 768])\n"
     ]
    }
   ],
   "source": [
    "# paper_id / author_id / concept_id 같은 메타정보 컬럼 제거 후 임베딩만 tensor 변환\n",
    "paper_feats = torch.tensor(paper_df.drop(columns=[\"paper_id\"]).values, dtype=torch.float32)\n",
    "author_feats = torch.tensor(author_df.drop(columns=[\"author_id\"]).values, dtype=torch.float32)\n",
    "concept_feats = torch.tensor(concept_df.drop(columns=[\"concept_id\", \"concept_name\", \"level\"]).values,\n",
    "                             dtype=torch.float32)\n",
    "\n",
    "print(\"paper feats:\", paper_feats.shape)\n",
    "print(\"author feats:\", author_feats.shape)\n",
    "print(\"concept feats:\", concept_feats.shape)"
   ]
  },
  {
   "cell_type": "markdown",
   "id": "7753b195-8d6f-49a6-89f0-d2fe93dab187",
   "metadata": {},
   "source": [
    "Adjancency 만들기"
   ]
  },
  {
   "cell_type": "code",
   "execution_count": 64,
   "id": "62c57923-b849-44fa-ad11-87533ff6118b",
   "metadata": {},
   "outputs": [
    {
     "name": "stdout",
     "output_type": "stream",
     "text": [
      "[✅] A_AP built with shape (33607, 5000), edges: 40591\n",
      "[⚠️] A_PC: 2871 edges dropped (out-of-bound indices)\n",
      "[✅] A_PC built with shape (5000, 6612), edges: 79367\n",
      "[✅] A_PP built with shape (5000, 5000), edges: 8186\n",
      "[✅] A_AA built with shape (33607, 33607), edges: 984700\n"
     ]
    }
   ],
   "source": [
    "import numpy as np\n",
    "import pandas as pd\n",
    "from scipy.sparse import csr_matrix\n",
    "\n",
    "def safe_build_csr(src, dst, nrow, ncol, name=\"matrix\"):\n",
    "    \"\"\"\n",
    "    ✅ 범위 자동 체크 + 초과 인덱스 제거 후 csr_matrix 생성\n",
    "    src: row index list\n",
    "    dst: col index list\n",
    "    nrow: matrix rows\n",
    "    ncol: matrix cols\n",
    "    name: 출력용 matrix 이름\n",
    "    \"\"\"\n",
    "    src = np.array(src)\n",
    "    dst = np.array(dst)\n",
    "\n",
    "    # ✅ 범위 벗어난 값 자동 필터링\n",
    "    mask = (src >= 0) & (src < nrow) & (dst >= 0) & (dst < ncol)\n",
    "    dropped = len(src) - mask.sum()\n",
    "\n",
    "    if dropped > 0:\n",
    "        print(f\"[⚠️] {name}: {dropped} edges dropped (out-of-bound indices)\")\n",
    "\n",
    "    src = src[mask]\n",
    "    dst = dst[mask]\n",
    "\n",
    "    # ✅ CSR 생성\n",
    "    data = np.ones(len(src), dtype=np.int8)\n",
    "    mat = csr_matrix((data, (src, dst)), shape=(nrow, ncol))\n",
    "\n",
    "    # ✅ 결과 확인\n",
    "    print(f\"[✅] {name} built with shape {mat.shape}, edges: {mat.nnz}\")\n",
    "    return mat\n",
    "\n",
    "# 📌 feat shape 기반 노드 수 (반드시 feature shape에서 가져오기)\n",
    "npapers = paper_feats.shape[0]      # 5000\n",
    "na = author_feats.shape[0]          # 33607\n",
    "nc = concept_feats.shape[0]         # 6612\n",
    "\n",
    "# ✅ 각 adjacency 생성 (자동 검증 + 안전 생성)\n",
    "A_AP = safe_build_csr(df_ap[\"src\"], df_ap[\"dst\"], na, npapers, name=\"A_AP\")\n",
    "A_PA = A_AP.T\n",
    "\n",
    "A_PC = safe_build_csr(df_pc[\"src\"], df_pc[\"dst\"], npapers, nc, name=\"A_PC\")\n",
    "A_CP = A_PC.T\n",
    "\n",
    "A_PP = safe_build_csr(df_pp[\"src\"], df_pp[\"dst\"], npapers, npapers, name=\"A_PP\")\n",
    "A_AA = safe_build_csr(df_aa[\"src\"], df_aa[\"dst\"], na, na, name=\"A_AA\")\n"
   ]
  },
  {
   "cell_type": "markdown",
   "id": "786cf6fa-ec3c-484f-8c8d-cf04d2abbe7c",
   "metadata": {},
   "source": [
    "MPS 만들기"
   ]
  },
  {
   "cell_type": "code",
   "execution_count": 66,
   "id": "7a618959-6e55-410e-a647-ccb9fbdc3fea",
   "metadata": {},
   "outputs": [
    {
     "name": "stdout",
     "output_type": "stream",
     "text": [
      "PAP shape=torch.Size([33607, 33607]), nnz=984548\n",
      "PCP shape=torch.Size([5000, 5000]), nnz=24995000\n"
     ]
    }
   ],
   "source": [
    "# PAP = A_AP * A_PA\n",
    "M_PAP = (A_AP @ A_PA).astype(np.int8)\n",
    "M_PAP.setdiag(0); M_PAP.eliminate_zeros()\n",
    "\n",
    "# PCP = A_PC * A_CP\n",
    "M_PCP = (A_PC @ A_CP).astype(np.int8)\n",
    "M_PCP.setdiag(0); M_PCP.eliminate_zeros()\n",
    "\n",
    "def scipy_to_torch_sparse(M):\n",
    "    coo = M.tocoo()\n",
    "    idx = torch.from_numpy(np.vstack([coo.row, coo.col])).long()\n",
    "    vals = torch.from_numpy(coo.data.astype(np.float32))\n",
    "    return torch.sparse_coo_tensor(idx, vals, torch.Size(coo.shape)).coalesce()\n",
    "\n",
    "mps = {\n",
    "    \"PAP\": scipy_to_torch_sparse(M_PAP),\n",
    "    \"PCP\": scipy_to_torch_sparse(M_PCP),\n",
    "}\n",
    "\n",
    "for name, mat in mps.items():\n",
    "    print(f\"{name} shape={mat.shape}, nnz={mat._nnz()}\")\n"
   ]
  },
  {
   "cell_type": "markdown",
   "id": "89e3575a-a7ac-4fe9-8476-03d827d1be26",
   "metadata": {},
   "source": [
    "nei_index 만들기"
   ]
  },
  {
   "cell_type": "code",
   "execution_count": 68,
   "id": "3864943b-8513-4bab-bf63-a1afdc13ff34",
   "metadata": {},
   "outputs": [
    {
     "name": "stdout",
     "output_type": "stream",
     "text": [
      "PAP node0 neighbors: [27762 23183 13559 12450 10178  5994  4428]\n",
      "PCP node0 neighbors: [   5 1774 2876 2423 3162  305 3645 4056 4160 3922  482 4086  279 2664\n",
      " 3988 1163 4655  418 2603 3482]\n"
     ]
    }
   ],
   "source": [
    "def build_nei_index(M, max_neighbors=20, seed=42):\n",
    "    rng = np.random.default_rng(seed)\n",
    "    neighbors = []\n",
    "    for i in range(M.shape[0]):\n",
    "        idx = M[i].indices\n",
    "        if len(idx) > max_neighbors:\n",
    "            idx = rng.choice(idx, size=max_neighbors, replace=False)\n",
    "        neighbors.append(idx)\n",
    "    return neighbors\n",
    "\n",
    "nei_index = {\n",
    "    \"PAP\": build_nei_index(M_PAP, max_neighbors=20, seed=42),\n",
    "    \"PCP\": build_nei_index(M_PCP, max_neighbors=20, seed=42),\n",
    "}\n",
    "\n",
    "# 확인\n",
    "print(\"PAP node0 neighbors:\", nei_index[\"PAP\"][0])\n",
    "print(\"PCP node0 neighbors:\", nei_index[\"PCP\"][0])\n"
   ]
  },
  {
   "cell_type": "markdown",
   "id": "0763d6f4-77c0-458e-8d9c-02c071f47aed",
   "metadata": {},
   "source": [
    "pos 만들기"
   ]
  },
  {
   "cell_type": "code",
   "execution_count": 70,
   "id": "b75d3f51-8c42-4ab8-9e65-761f0acb2bdd",
   "metadata": {},
   "outputs": [
    {
     "name": "stdout",
     "output_type": "stream",
     "text": [
      "ap torch.Size([2, 40758])\n",
      "pc torch.Size([2, 82238])\n",
      "pp torch.Size([2, 8186])\n",
      "aa torch.Size([2, 984700])\n"
     ]
    },
    {
     "name": "stderr",
     "output_type": "stream",
     "text": [
      "/var/folders/yv/3ng84z553ljcmc8pmfpbj_540000gn/T/ipykernel_9418/3676224803.py:2: UserWarning: Creating a tensor from a list of numpy.ndarrays is extremely slow. Please consider converting the list to a single numpy.ndarray with numpy.array() before converting to a tensor. (Triggered internally at /Users/runner/work/pytorch/pytorch/pytorch/torch/csrc/utils/tensor_new.cpp:278.)\n",
      "  \"ap\": torch.tensor([df_ap[\"src\"].to_numpy(), df_ap[\"dst\"].to_numpy()], dtype=torch.long),\n"
     ]
    }
   ],
   "source": [
    "pos = {\n",
    "    \"ap\": torch.tensor([df_ap[\"src\"].to_numpy(), df_ap[\"dst\"].to_numpy()], dtype=torch.long),\n",
    "    \"pc\": torch.tensor([df_pc[\"src\"].to_numpy(), df_pc[\"dst\"].to_numpy()], dtype=torch.long),\n",
    "    \"pp\": torch.tensor([df_pp[\"src\"].to_numpy(), df_pp[\"dst\"].to_numpy()], dtype=torch.long),\n",
    "    \"aa\": torch.tensor([df_aa[\"src\"].to_numpy(), df_aa[\"dst\"].to_numpy()], dtype=torch.long),\n",
    "}\n",
    "\n",
    "for k, v in pos.items():\n",
    "    print(k, v.shape)\n"
   ]
  },
  {
   "cell_type": "markdown",
   "id": "b2e61ed6-7c92-4533-9ce7-accec92b9784",
   "metadata": {},
   "source": [
    "최종 저장"
   ]
  },
  {
   "cell_type": "code",
   "execution_count": 72,
   "id": "c8a7c2fc-3659-4710-a3fd-017e16cc7bb8",
   "metadata": {},
   "outputs": [
    {
     "name": "stdout",
     "output_type": "stream",
     "text": [
      "Saved: data/mydata.pkl\n"
     ]
    }
   ],
   "source": [
    "save_dict = {\n",
    "    \"feats\": {\n",
    "        \"paper\": paper_feats,\n",
    "        \"author\": author_feats,\n",
    "        \"concept\": concept_feats\n",
    "    },\n",
    "    \"mps\": mps,\n",
    "    \"nei_index\": nei_index,\n",
    "    \"pos\": pos,\n",
    "}\n",
    "\n",
    "os.makedirs(\"data\", exist_ok=True)\n",
    "torch.save(save_dict, \"data/mydata.pkl\")\n",
    "print(\"Saved: data/mydata.pkl\")\n"
   ]
  },
  {
   "cell_type": "markdown",
   "id": "6cdbfaeb-f48b-403d-9954-40463e5e493c",
   "metadata": {},
   "source": [
    "### 확인"
   ]
  },
  {
   "cell_type": "code",
   "execution_count": 74,
   "id": "cc86bd6a-b42d-4e52-8c97-acafeca6e407",
   "metadata": {},
   "outputs": [
    {
     "name": "stdout",
     "output_type": "stream",
     "text": [
      "=== Keys in mydata.pkl ===\n",
      "- feats\n",
      "- mps\n",
      "- nei_index\n",
      "- pos\n",
      "\n",
      "=== Node Feature Tensors (in data['feats']) ===\n",
      "paper: shape=torch.Size([5000, 832]), dtype=torch.float32\n",
      "author: shape=torch.Size([33607, 768]), dtype=torch.float32\n",
      "concept: shape=torch.Size([6612, 768]), dtype=torch.float32\n",
      "\n",
      "=== mps ===\n",
      "PAP: shape=torch.Size([33607, 33607]), nnz=984548\n",
      "PCP: shape=torch.Size([5000, 5000]), nnz=24995000\n",
      "\n",
      "=== nei_index ===\n",
      "PAP: num_nodes=33607, 첫 노드 neighbors=[27762 23183 13559 12450 10178  5994  4428]\n",
      "PCP: num_nodes=5000, 첫 노드 neighbors=[   5 1774 2876 2423 3162  305 3645 4056 4160 3922  482 4086  279 2664\n",
      " 3988 1163 4655  418 2603 3482]\n",
      "\n",
      "=== pos ===\n",
      "ap: shape=torch.Size([2, 40758]), 예시=tensor([[ 8136, 17961,  1297, 13091,  5067],\n",
      "        [    0,     0,     0,     0,     1]])\n",
      "pc: shape=torch.Size([2, 82238]), 예시=tensor([[   0,    0,    0,    0,    0],\n",
      "        [3526, 1937,  552, 5006,  539]])\n",
      "pp: shape=torch.Size([2, 8186]), 예시=tensor([[   0,    0,    1,    2,    2],\n",
      "        [4517, 3007, 2972, 2516,  233]])\n",
      "aa: shape=torch.Size([2, 984700]), 예시=tensor([[    0,     0,     0,     0,     0],\n",
      "        [ 4428,  5994, 10178, 12450, 13559]])\n"
     ]
    }
   ],
   "source": [
    "import torch\n",
    "\n",
    "# 저장된 파일 불러오기\n",
    "data = torch.load(\"data/mydata.pkl\")\n",
    "\n",
    "print(\"=== Keys in mydata.pkl ===\")\n",
    "for k in data.keys():\n",
    "    print(\"-\", k)\n",
    "\n",
    "# feats 확인\n",
    "print(\"\\n=== Node Feature Tensors (in data['feats']) ===\")\n",
    "if \"feats\" in data:\n",
    "    for node_type in [\"paper\", \"author\", \"concept\"]:\n",
    "        if node_type in data[\"feats\"] and data[\"feats\"][node_type] is not None:\n",
    "            feat = data[\"feats\"][node_type]\n",
    "            print(f\"{node_type}: shape={feat.shape}, dtype={feat.dtype}\")\n",
    "        else:\n",
    "            print(f\"{node_type}: ❌ 없음\")\n",
    "else:\n",
    "    print(\"❌ 'feats' key가 존재하지 않습니다. HGMAE 호환 구조가 아닙니다.\")\n",
    "    \n",
    "# mps 확인\n",
    "print(\"\\n=== mps ===\")\n",
    "for name, mat in data[\"mps\"].items():\n",
    "    print(f\"{name}: shape={mat.shape}, nnz={mat._nnz()}\")\n",
    "\n",
    "# nei_index 확인\n",
    "print(\"\\n=== nei_index ===\")\n",
    "for name, idx_list in data[\"nei_index\"].items():\n",
    "    print(f\"{name}: num_nodes={len(idx_list)}, 첫 노드 neighbors={idx_list[0]}\")\n",
    "\n",
    "# pos 확인\n",
    "print(\"\\n=== pos ===\")\n",
    "for name, edge_index in data[\"pos\"].items():\n",
    "    print(f\"{name}: shape={edge_index.shape}, 예시={edge_index[:, :5]}\")\n"
   ]
  },
  {
   "cell_type": "code",
   "execution_count": 76,
   "id": "060c70fb-a681-4092-915d-088c076f7289",
   "metadata": {},
   "outputs": [
    {
     "name": "stdout",
     "output_type": "stream",
     "text": [
      "-rw-r--r--@ 1 seoyeonko  staff   651M Sep 27 16:32 data/mydata.pkl\n"
     ]
    }
   ],
   "source": [
    "ls -lh data/mydata.pkl"
   ]
  },
  {
   "cell_type": "code",
   "execution_count": null,
   "id": "a2546cf7-a0dc-46a9-9688-f797f14c36b1",
   "metadata": {},
   "outputs": [],
   "source": []
  }
 ],
 "metadata": {
  "kernelspec": {
   "display_name": "Python 3 (ipykernel)",
   "language": "python",
   "name": "python3"
  },
  "language_info": {
   "codemirror_mode": {
    "name": "ipython",
    "version": 3
   },
   "file_extension": ".py",
   "mimetype": "text/x-python",
   "name": "python",
   "nbconvert_exporter": "python",
   "pygments_lexer": "ipython3",
   "version": "3.11.7"
  }
 },
 "nbformat": 4,
 "nbformat_minor": 5
}
