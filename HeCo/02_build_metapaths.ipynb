{
 "cells": [
  {
   "cell_type": "code",
   "execution_count": 1,
   "id": "0df76610-776a-4a08-abf5-8e56e3d2d813",
   "metadata": {},
   "outputs": [
    {
     "name": "stdout",
     "output_type": "stream",
     "text": [
      "ART_DIR: /root/heco/artifacts\n",
      "OUT_DIR: /root/heco/artifacts\n"
     ]
    }
   ],
   "source": [
    "# =========================\n",
    "# [Cell 1] 설정 / 경로\n",
    "# =========================\n",
    "from pathlib import Path\n",
    "\n",
    "BASE_DIR = Path(\"/root/heco\")\n",
    "ART_DIR  = BASE_DIR / \"artifacts\"    # 01에서 만든 아티팩트 폴더\n",
    "OUT_DIR  = ART_DIR                   # 메타패스 결과도 artifacts 안에 저장\n",
    "\n",
    "# 선택 파라미터\n",
    "# - topK: 논문별 메타패스 이웃 상한. None이면 제한 없음.\n",
    "TOPK_PAP = None      # 예: 100\n",
    "TOPK_PCP = None      # 예: 100\n",
    "\n",
    "# 자기 자신 제외 여부\n",
    "EXCLUDE_SELF = True\n",
    "\n",
    "# 랜덤샘플링(상한 초과 시)을 위해 시드 고정\n",
    "RNG_SEED = 42\n",
    "\n",
    "print(\"ART_DIR:\", ART_DIR)\n",
    "print(\"OUT_DIR:\", OUT_DIR)\n"
   ]
  },
  {
   "cell_type": "code",
   "execution_count": 2,
   "id": "4e156b14-f8ac-4a59-a90c-2ab216385143",
   "metadata": {},
   "outputs": [],
   "source": [
    "# =========================\n",
    "# [Cell 2] 라이브러리 로드 & 유틸\n",
    "# =========================\n",
    "import json\n",
    "import numpy as np\n",
    "import pandas as pd\n",
    "\n",
    "def load_npz(path):\n",
    "    with np.load(path) as data:\n",
    "        # 단일 키만 있다고 가정(E or X)\n",
    "        if \"E\" in data: return data[\"E\"]\n",
    "        if \"X\" in data: return data[\"X\"]\n",
    "        raise ValueError(f\"Unsupported npz keys in {path}: {list(data.keys())}\")\n",
    "\n",
    "def build_adj(num_nodes: int, edges: np.ndarray, bidirectional: bool=False):\n",
    "    \"\"\"\n",
    "    간단한 CSR 인접리스트 생성.\n",
    "    edges: [N,2] (src,dst)\n",
    "    \"\"\"\n",
    "    src, dst = edges[:,0], edges[:,1]\n",
    "    if bidirectional:\n",
    "        src = np.concatenate([src, dst], axis=0)\n",
    "        dst = np.concatenate([dst, src], axis=0)\n",
    "    order = np.argsort(src, kind=\"mergesort\")\n",
    "    src = src[order]; dst = dst[order]\n",
    "    counts = np.bincount(src, minlength=num_nodes)\n",
    "    indptr = np.zeros(num_nodes + 1, dtype=np.int64)\n",
    "    indptr[1:] = np.cumsum(counts)\n",
    "    indices = dst.astype(np.int64, copy=False)\n",
    "    return indptr, indices\n",
    "\n",
    "def neighbors_from_adj(indptr, indices, u: int) -> np.ndarray:\n",
    "    return indices[indptr[u]:indptr[u+1]]\n",
    "\n",
    "def list2csr(lists, sort_unique=True):\n",
    "    indptr = [0]\n",
    "    all_idx = []\n",
    "    for nb in lists:\n",
    "        if sort_unique:\n",
    "            nb = np.array(sorted(set(nb)), dtype=np.int64)\n",
    "        else:\n",
    "            nb = np.array(list(nb), dtype=np.int64)\n",
    "        all_idx.append(nb)\n",
    "        indptr.append(indptr[-1] + len(nb))\n",
    "    indptr = np.array(indptr, dtype=np.int64)\n",
    "    indices = np.concatenate(all_idx, axis=0) if len(all_idx) else np.array([], dtype=np.int64)\n",
    "    return indptr, indices\n",
    "\n",
    "def maybe_topk(arr: np.ndarray, k: int|None, rng: np.random.Generator):\n",
    "    if k is None or arr.size <= k:\n",
    "        return arr\n",
    "    # 무작위 샘플링 (원하면 차후 점수기반으로 변경 가능)\n",
    "    sel = rng.choice(arr, size=k, replace=False)\n",
    "    return np.sort(sel)\n",
    "\n",
    "rng = np.random.default_rng(RNG_SEED)\n"
   ]
  },
  {
   "cell_type": "code",
   "execution_count": 3,
   "id": "cbcf8161-23ff-4009-8b2d-2371a9420eb3",
   "metadata": {},
   "outputs": [
    {
     "name": "stdout",
     "output_type": "stream",
     "text": [
      "num_papers  : 5000\n",
      "num_authors : 32161\n",
      "num_concepts: 6901\n",
      "E_AP: (78212, 2) E_PA: (78212, 2) E_PC: (164493, 2) E_CP: (164493, 2)\n"
     ]
    }
   ],
   "source": [
    "# =========================\n",
    "# [Cell 3] 아티팩트 로드\n",
    "# =========================\n",
    "# meta.json에서 노드 수 확인\n",
    "with open(ART_DIR/\"meta.json\",\"r\") as f:\n",
    "    meta = json.load(f)\n",
    "\n",
    "num_papers   = meta[\"num_papers\"]\n",
    "num_authors  = meta[\"num_authors\"]\n",
    "num_concepts = meta[\"num_concepts\"]\n",
    "\n",
    "# 관계별 엣지 로드 (01 단계에서 저장한 것)\n",
    "E_AP = load_npz(ART_DIR/\"edges_AP.npz\")  # A->P\n",
    "E_PA = load_npz(ART_DIR/\"edges_PA.npz\")  # P->A\n",
    "E_PC = load_npz(ART_DIR/\"edges_PC.npz\")  # P->C\n",
    "E_CP = load_npz(ART_DIR/\"edges_CP.npz\")  # C->P\n",
    "\n",
    "print(\"num_papers  :\", num_papers)\n",
    "print(\"num_authors :\", num_authors)\n",
    "print(\"num_concepts:\", num_concepts)\n",
    "print(\"E_AP:\", E_AP.shape, \"E_PA:\", E_PA.shape, \"E_PC:\", E_PC.shape, \"E_CP:\", E_CP.shape)\n"
   ]
  },
  {
   "cell_type": "code",
   "execution_count": 4,
   "id": "e6b36b57-daf8-4d2e-8b2b-b679d971d1c1",
   "metadata": {},
   "outputs": [
    {
     "name": "stdout",
     "output_type": "stream",
     "text": [
      "PA_indptr: (5001,) PA_indices: (78212,)\n",
      "AP_indptr: (32162,) AP_indices: (78212,)\n",
      "PC_indptr: (5001,) PC_indices: (164493,)\n",
      "CP_indptr: (6902,) CP_indices: (164493,)\n"
     ]
    }
   ],
   "source": [
    "# =========================\n",
    "# [Cell 4] 단일 hop 인접리스트 구성\n",
    "# =========================\n",
    "# P->A, A->P\n",
    "PA_indptr, PA_indices = build_adj(num_papers,  E_PA, bidirectional=False)   # paper -> authors\n",
    "AP_indptr, AP_indices = build_adj(num_authors, E_AP, bidirectional=False)   # author -> papers\n",
    "\n",
    "# P->C, C->P\n",
    "PC_indptr, PC_indices = build_adj(num_papers,  E_PC, bidirectional=False)   # paper -> concepts\n",
    "CP_indptr, CP_indices = build_adj(num_concepts, E_CP, bidirectional=False)  # concept -> papers\n",
    "\n",
    "print(\"PA_indptr:\", PA_indptr.shape, \"PA_indices:\", PA_indices.shape)\n",
    "print(\"AP_indptr:\", AP_indptr.shape, \"AP_indices:\", AP_indices.shape)\n",
    "print(\"PC_indptr:\", PC_indptr.shape, \"PC_indices:\", PC_indices.shape)\n",
    "print(\"CP_indptr:\", CP_indptr.shape, \"CP_indices:\", CP_indices.shape)\n"
   ]
  },
  {
   "cell_type": "code",
   "execution_count": 5,
   "id": "9c1698c5-546f-44ce-b62d-0060e1de29b8",
   "metadata": {},
   "outputs": [
    {
     "name": "stdout",
     "output_type": "stream",
     "text": [
      "PAP CSR -> indptr: (5001,) indices: (95466,)\n",
      "PAP 예시: [ 112  708 1069 1246 1315 1558 1854 1875 2182 2640]\n"
     ]
    }
   ],
   "source": [
    "# =========================\n",
    "# [Cell 5] P–A–P 메타패스 이웃 생성\n",
    "# =========================\n",
    "PAP_lists = []\n",
    "for p in range(num_papers):\n",
    "    # 1-hop: papers->authors\n",
    "    a_neighbors = neighbors_from_adj(PA_indptr, PA_indices, p)\n",
    "    # 2-hop: authors->papers\n",
    "    two_hop_papers = []\n",
    "    for a in a_neighbors:\n",
    "        two_hop_papers.extend(neighbors_from_adj(AP_indptr, AP_indices, a))\n",
    "    # numpy array로 변환\n",
    "    two_hop_papers = np.array(two_hop_papers, dtype=np.int64)\n",
    "    if two_hop_papers.size == 0:\n",
    "        PAP_lists.append([])\n",
    "        continue\n",
    "    # 자기 자신 제거\n",
    "    if EXCLUDE_SELF:\n",
    "        two_hop_papers = two_hop_papers[two_hop_papers != p]\n",
    "    # 중복 제거 + (선택) topK\n",
    "    two_hop_papers = np.unique(two_hop_papers)\n",
    "    two_hop_papers = maybe_topk(two_hop_papers, TOPK_PAP, rng)\n",
    "    PAP_lists.append(two_hop_papers.tolist())\n",
    "\n",
    "PAP_indptr, PAP_indices = list2csr(PAP_lists, sort_unique=False)\n",
    "print(\"PAP CSR -> indptr:\", PAP_indptr.shape, \"indices:\", PAP_indices.shape)\n",
    "print(\"PAP 예시:\", PAP_indices[PAP_indptr[0]:PAP_indptr[1]][:10] if num_papers>0 else [])\n"
   ]
  },
  {
   "cell_type": "code",
   "execution_count": 6,
   "id": "88cc7ade-a7c9-46b3-95c8-e18a48d3803e",
   "metadata": {},
   "outputs": [
    {
     "name": "stdout",
     "output_type": "stream",
     "text": [
      "PCP CSR -> indptr: (5001,) indices: (24995000,)\n",
      "PCP 예시: [ 1  2  3  4  5  6  7  8  9 10]\n"
     ]
    }
   ],
   "source": [
    "# =========================\n",
    "# [Cell 6] P–C–P 메타패스 이웃 생성\n",
    "# =========================\n",
    "PCP_lists = []\n",
    "for p in range(num_papers):\n",
    "    # 1-hop: papers->concepts\n",
    "    c_neighbors = neighbors_from_adj(PC_indptr, PC_indices, p)\n",
    "    # 2-hop: concepts->papers\n",
    "    two_hop_papers = []\n",
    "    for c in c_neighbors:\n",
    "        two_hop_papers.extend(neighbors_from_adj(CP_indptr, CP_indices, c))\n",
    "    two_hop_papers = np.array(two_hop_papers, dtype=np.int64)\n",
    "    if two_hop_papers.size == 0:\n",
    "        PCP_lists.append([])\n",
    "        continue\n",
    "    if EXCLUDE_SELF:\n",
    "        two_hop_papers = two_hop_papers[two_hop_papers != p]\n",
    "    two_hop_papers = np.unique(two_hop_papers)\n",
    "    two_hop_papers = maybe_topk(two_hop_papers, TOPK_PCP, rng)\n",
    "    PCP_lists.append(two_hop_papers.tolist())\n",
    "\n",
    "PCP_indptr, PCP_indices = list2csr(PCP_lists, sort_unique=False)\n",
    "print(\"PCP CSR -> indptr:\", PCP_indptr.shape, \"indices:\", PCP_indices.shape)\n",
    "print(\"PCP 예시:\", PCP_indices[PCP_indptr[0]:PCP_indptr[1]][:10] if num_papers>0 else [])\n"
   ]
  },
  {
   "cell_type": "code",
   "execution_count": 7,
   "id": "ca57498d-1d14-458b-a8db-d7092bdff18f",
   "metadata": {},
   "outputs": [
    {
     "name": "stdout",
     "output_type": "stream",
     "text": [
      "✅ Saved: /root/heco/artifacts/metapath_PAP.npz /root/heco/artifacts/metapath_PCP.npz /root/heco/artifacts/metapath_summary.json\n",
      "{\n",
      "  \"PAP\": {\n",
      "    \"num_papers\": 5000,\n",
      "    \"total_pairs\": 95466,\n",
      "    \"avg_neighbors_per_paper\": 19.0932,\n",
      "    \"topK\": null\n",
      "  },\n",
      "  \"PCP\": {\n",
      "    \"num_papers\": 5000,\n",
      "    \"total_pairs\": 24995000,\n",
      "    \"avg_neighbors_per_paper\": 4999.0,\n",
      "    \"topK\": null\n",
      "  },\n",
      "  \"exclude_self\": true\n",
      "}\n"
     ]
    }
   ],
   "source": [
    "# =========================\n",
    "# [Cell 7] 저장(CSR 포맷 + 요약)\n",
    "# =========================\n",
    "# CSR 저장 (npz)\n",
    "np.savez_compressed(OUT_DIR / \"metapath_PAP.npz\", indptr=PAP_indptr, indices=PAP_indices)\n",
    "np.savez_compressed(OUT_DIR / \"metapath_PCP.npz\", indptr=PCP_indptr, indices=PCP_indices)\n",
    "\n",
    "# 간단 요약\n",
    "summary = {\n",
    "    \"PAP\": {\n",
    "        \"num_papers\": int(num_papers),\n",
    "        \"total_pairs\": int(PAP_indices.size),\n",
    "        \"avg_neighbors_per_paper\": float(PAP_indices.size / max(1, num_papers)),\n",
    "        \"topK\": TOPK_PAP,\n",
    "    },\n",
    "    \"PCP\": {\n",
    "        \"num_papers\": int(num_papers),\n",
    "        \"total_pairs\": int(PCP_indices.size),\n",
    "        \"avg_neighbors_per_paper\": float(PCP_indices.size / max(1, num_papers)),\n",
    "        \"topK\": TOPK_PCP,\n",
    "    },\n",
    "    \"exclude_self\": EXCLUDE_SELF,\n",
    "}\n",
    "with open(OUT_DIR / \"metapath_summary.json\", \"w\") as f:\n",
    "    json.dump(summary, f, indent=2)\n",
    "\n",
    "print(\"✅ Saved:\",\n",
    "      OUT_DIR/\"metapath_PAP.npz\",\n",
    "      OUT_DIR/\"metapath_PCP.npz\",\n",
    "      OUT_DIR/\"metapath_summary.json\")\n",
    "print(json.dumps(summary, indent=2))\n"
   ]
  },
  {
   "cell_type": "code",
   "execution_count": 8,
   "id": "da6093a3-7b6d-4bdf-aaee-0c4c6790885a",
   "metadata": {},
   "outputs": [
    {
     "name": "stdout",
     "output_type": "stream",
     "text": [
      "[PAP] paper_idx=0, paper_id=https://openalex.org/W3010906965\n",
      " -> neighbor paper_idx: [ 112  708 1069 1246 1315 1558 1854 1875 2182 2640]\n",
      " -> neighbor paper_id : ['https://openalex.org/W3020097213', 'https://openalex.org/W4381982883', 'https://openalex.org/W3005448673', 'https://openalex.org/W2976876706', 'https://openalex.org/W3022781679']\n",
      "[PCP] paper_idx=0, paper_id=https://openalex.org/W3010906965\n",
      " -> neighbor paper_idx: [ 1  2  3  4  5  6  7  8  9 10]\n",
      " -> neighbor paper_id : ['https://openalex.org/W4213446860', 'https://openalex.org/W2987460522', 'https://openalex.org/W3133928066', 'https://openalex.org/W4382464460', 'https://openalex.org/W2973049920']\n"
     ]
    }
   ],
   "source": [
    "# =========================\n",
    "# [Cell 8] (선택) 매핑 파일로 원본 ID 프리뷰\n",
    "# =========================\n",
    "map_paper = pd.read_csv(ART_DIR/\"map_paper_id.csv\")[\"paper_id\"].tolist()\n",
    "\n",
    "def peek_neighbors(indptr, indices, u: int, k: int=10):\n",
    "    return indices[indptr[u]:indptr[u+1]][:k]\n",
    "\n",
    "for name, (indptr, indices) in {\n",
    "    \"PAP\": (PAP_indptr, PAP_indices),\n",
    "    \"PCP\": (PCP_indptr, PCP_indices),\n",
    "}.items():\n",
    "    if len(map_paper) == 0: break\n",
    "    u = 0\n",
    "    ids = peek_neighbors(indptr, indices, u, k=10)\n",
    "    print(f\"[{name}] paper_idx={u}, paper_id={map_paper[u] if u < len(map_paper) else 'NA'}\")\n",
    "    print(\" -> neighbor paper_idx:\", ids)\n",
    "    print(\" -> neighbor paper_id :\", [map_paper[i] for i in ids[:5]])"
   ]
  },
  {
   "cell_type": "code",
   "execution_count": null,
   "id": "108625f0-f4f9-465b-88fe-95652e327587",
   "metadata": {},
   "outputs": [],
   "source": []
  },
  {
   "cell_type": "code",
   "execution_count": null,
   "id": "284081cd-f41d-4dac-9a1b-acd2249885b6",
   "metadata": {},
   "outputs": [],
   "source": []
  },
  {
   "cell_type": "code",
   "execution_count": null,
   "id": "0e2afc20-baa9-4546-9017-e74b9e0b06d7",
   "metadata": {},
   "outputs": [],
   "source": []
  },
  {
   "cell_type": "code",
   "execution_count": null,
   "id": "40e859c0-6a55-47eb-a758-b7ad3f585002",
   "metadata": {},
   "outputs": [],
   "source": []
  },
  {
   "cell_type": "code",
   "execution_count": null,
   "id": "124d2294-75ea-4ecb-9744-a990dad82145",
   "metadata": {},
   "outputs": [],
   "source": []
  },
  {
   "cell_type": "code",
   "execution_count": null,
   "id": "ee77bcb8-806a-42d6-ad62-f3f1320048ba",
   "metadata": {},
   "outputs": [],
   "source": []
  },
  {
   "cell_type": "code",
   "execution_count": null,
   "id": "a10c9a17-b2bc-46f0-921e-cebe921c6e8b",
   "metadata": {},
   "outputs": [],
   "source": []
  },
  {
   "cell_type": "code",
   "execution_count": null,
   "id": "73c705d3-19f4-43fa-833c-83ae20992c6f",
   "metadata": {},
   "outputs": [],
   "source": []
  },
  {
   "cell_type": "code",
   "execution_count": null,
   "id": "5fa83fe9-4769-4b2b-af3b-eeb35cd789c6",
   "metadata": {},
   "outputs": [],
   "source": []
  }
 ],
 "metadata": {
  "kernelspec": {
   "display_name": "Python 3 (ipykernel)",
   "language": "python",
   "name": "python3"
  },
  "language_info": {
   "codemirror_mode": {
    "name": "ipython",
    "version": 3
   },
   "file_extension": ".py",
   "mimetype": "text/x-python",
   "name": "python",
   "nbconvert_exporter": "python",
   "pygments_lexer": "ipython3",
   "version": "3.10.12"
  }
 },
 "nbformat": 4,
 "nbformat_minor": 5
}
